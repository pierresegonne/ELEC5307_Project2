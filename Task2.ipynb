{
  "nbformat": 4,
  "nbformat_minor": 0,
  "metadata": {
    "kernelspec": {
      "name": "python3",
      "display_name": "Python 3"
    },
    "colab": {
      "name": "Task2.ipynb",
      "provenance": [],
      "collapsed_sections": [],
      "include_colab_link": true
    },
    "accelerator": "GPU"
  },
  "cells": [
    {
      "cell_type": "markdown",
      "metadata": {
        "id": "view-in-github",
        "colab_type": "text"
      },
      "source": [
        "<a href=\"https://colab.research.google.com/github/pierresegonne/ELEC5307_Project2/blob/master/Task2.ipynb\" target=\"_parent\"><img src=\"https://colab.research.google.com/assets/colab-badge.svg\" alt=\"Open In Colab\"/></a>"
      ]
    },
    {
      "cell_type": "markdown",
      "metadata": {
        "colab_type": "text",
        "id": "L3xvke0zmduC"
      },
      "source": [
        "# UTILS"
      ]
    },
    {
      "cell_type": "code",
      "metadata": {
        "colab_type": "code",
        "outputId": "c03829cc-fe76-4beb-af30-262ca6599f9d",
        "id": "1creFnJQmduF",
        "colab": {
          "base_uri": "https://localhost:8080/",
          "height": 326
        }
      },
      "source": [
        "# Install pytorch\n",
        "\n",
        "from os import path\n",
        "from wheel.pep425tags import get_abbr_impl, get_impl_ver, get_abi_tag\n",
        "platform = '{}{}-{}'.format(get_abbr_impl(), get_impl_ver(), get_abi_tag())\n",
        "\n",
        "accelerator = 'cu80' if path.exists('/opt/bin/nvidia-smi') else 'cpu'\n",
        "print('Accelerator: ', accelerator)\n",
        "\n",
        "print('Installing Torch') \n",
        "!pip install -q http://download.pytorch.org/whl/{accelerator}/torch-1.0.0-{platform}-linux_x86_64.whl\n",
        "# Issue with torchvision version\n",
        "!pip install torchvision==0.2.1\n",
        "import torch\n",
        "import torchvision"
      ],
      "execution_count": 1,
      "outputs": [
        {
          "output_type": "stream",
          "text": [
            "Accelerator:  cu80\n",
            "Installing Torch\n",
            "\u001b[K     |████████████████████████████████| 532.5MB 1.2MB/s \n",
            "\u001b[31mERROR: torchvision 0.4.1+cu100 has requirement torch==1.3.0, but you'll have torch 1.0.0 which is incompatible.\u001b[0m\n",
            "\u001b[?25hCollecting torchvision==0.2.1\n",
            "\u001b[?25l  Downloading https://files.pythonhosted.org/packages/ca/0d/f00b2885711e08bd71242ebe7b96561e6f6d01fdb4b9dcf4d37e2e13c5e1/torchvision-0.2.1-py2.py3-none-any.whl (54kB)\n",
            "\u001b[K     |████████████████████████████████| 61kB 1.9MB/s \n",
            "\u001b[?25hRequirement already satisfied: pillow>=4.1.1 in /usr/local/lib/python3.6/dist-packages (from torchvision==0.2.1) (4.3.0)\n",
            "Requirement already satisfied: numpy in /usr/local/lib/python3.6/dist-packages (from torchvision==0.2.1) (1.17.3)\n",
            "Requirement already satisfied: six in /usr/local/lib/python3.6/dist-packages (from torchvision==0.2.1) (1.12.0)\n",
            "Requirement already satisfied: torch in /usr/local/lib/python3.6/dist-packages (from torchvision==0.2.1) (1.0.0)\n",
            "Requirement already satisfied: olefile in /usr/local/lib/python3.6/dist-packages (from pillow>=4.1.1->torchvision==0.2.1) (0.46)\n",
            "Installing collected packages: torchvision\n",
            "  Found existing installation: torchvision 0.4.1+cu100\n",
            "    Uninstalling torchvision-0.4.1+cu100:\n",
            "      Successfully uninstalled torchvision-0.4.1+cu100\n",
            "Successfully installed torchvision-0.2.1\n"
          ],
          "name": "stdout"
        }
      ]
    },
    {
      "cell_type": "code",
      "metadata": {
        "colab_type": "code",
        "id": "Nx6lbt1bmduJ",
        "colab": {}
      },
      "source": [
        "ROOT_DIRECTORY = '.'"
      ],
      "execution_count": 0,
      "outputs": []
    },
    {
      "cell_type": "code",
      "metadata": {
        "colab_type": "code",
        "outputId": "b1d67047-f94b-4d16-f6e5-dba2e977729e",
        "id": "C4PR3lYNmduM",
        "colab": {
          "base_uri": "https://localhost:8080/",
          "height": 122
        }
      },
      "source": [
        "# Allow saving files to google drive if ran on colab\n",
        "from google.colab import drive\n",
        "drive.mount('/content/gdrive')\n",
        "ROOT_DIRECTORY = '/content/gdrive/My Drive/Colab Notebooks/ELEC5307 Project2'"
      ],
      "execution_count": 2,
      "outputs": [
        {
          "output_type": "stream",
          "text": [
            "Go to this URL in a browser: https://accounts.google.com/o/oauth2/auth?client_id=947318989803-6bn6qk8qdgf4n4g3pfee6491hc0brc4i.apps.googleusercontent.com&redirect_uri=urn%3Aietf%3Awg%3Aoauth%3A2.0%3Aoob&scope=email%20https%3A%2F%2Fwww.googleapis.com%2Fauth%2Fdocs.test%20https%3A%2F%2Fwww.googleapis.com%2Fauth%2Fdrive%20https%3A%2F%2Fwww.googleapis.com%2Fauth%2Fdrive.photos.readonly%20https%3A%2F%2Fwww.googleapis.com%2Fauth%2Fpeopleapi.readonly&response_type=code\n",
            "\n",
            "Enter your authorization code:\n",
            "··········\n",
            "Mounted at /content/gdrive\n"
          ],
          "name": "stdout"
        }
      ]
    },
    {
      "cell_type": "code",
      "metadata": {
        "id": "eeRplqfdjoaJ",
        "colab_type": "code",
        "colab": {}
      },
      "source": [
        "def serialize_object(obj, file_name):\n",
        "    with open(file_name, 'wb') as file_handler:\n",
        "        pickle.dump(obj, file_handler, protocol=pickle.HIGHEST_PROTOCOL)\n",
        "\n"
      ],
      "execution_count": 0,
      "outputs": []
    },
    {
      "cell_type": "markdown",
      "metadata": {
        "colab_type": "text",
        "id": "wSL_RnfEmduP"
      },
      "source": [
        "# IMPORTS"
      ]
    },
    {
      "cell_type": "code",
      "metadata": {
        "colab_type": "code",
        "id": "fTnGIM8kmduP",
        "colab": {}
      },
      "source": [
        "import math\n",
        "import matplotlib.pyplot as plt\n",
        "import multiprocessing\n",
        "import numpy as np\n",
        "import os\n",
        "import pickle\n",
        "import random\n",
        "\n",
        "import torch\n",
        "import torchvision\n",
        "import torch.nn.functional as F\n",
        "import torch.optim as optim\n",
        "import torchvision.transforms as transforms\n",
        "\n",
        "from PIL import Image\n",
        "from torch import nn\n",
        "from torch.utils.data import Dataset, DataLoader, SubsetRandomSampler\n",
        "from torchvision.datasets import ImageFolder"
      ],
      "execution_count": 0,
      "outputs": []
    },
    {
      "cell_type": "markdown",
      "metadata": {
        "id": "zYw4i_K-mzQw",
        "colab_type": "text"
      },
      "source": [
        "# MACHINE PARAMETERS"
      ]
    },
    {
      "cell_type": "code",
      "metadata": {
        "id": "YEvkMYz4ThbF",
        "colab_type": "code",
        "colab": {
          "base_uri": "https://localhost:8080/",
          "height": 51
        },
        "outputId": "5997b6c8-4c87-48c4-82c7-0383367948f3"
      },
      "source": [
        "device = torch.device(\"cuda\" if torch.cuda.is_available() else \"cpu\")\n",
        "print(f'The following study will use --- {device} --- as device')\n",
        "\n",
        "cpu_cores = multiprocessing.cpu_count()\n",
        "print(f'The following study has --- {cpu_cores} --- available cpu cores')"
      ],
      "execution_count": 20,
      "outputs": [
        {
          "output_type": "stream",
          "text": [
            "The following study will use --- cuda --- as device\n",
            "The following study has --- 2 --- available cpu cores\n"
          ],
          "name": "stdout"
        }
      ]
    },
    {
      "cell_type": "markdown",
      "metadata": {
        "id": "QBn39QKpmkR5",
        "colab_type": "text"
      },
      "source": [
        "# DATA LOADING AND TRANSFORMATION"
      ]
    },
    {
      "cell_type": "code",
      "metadata": {
        "id": "mVMK4nXKOlQX",
        "colab_type": "code",
        "colab": {}
      },
      "source": [
        "SOURCE_FOLDER = '{}/data/Task2/Source'.format(ROOT_DIRECTORY)\n",
        "TARGET_FOLDER = '{}/data/Task2/Target'.format(ROOT_DIRECTORY)"
      ],
      "execution_count": 0,
      "outputs": []
    },
    {
      "cell_type": "code",
      "metadata": {
        "id": "j1SzWM1CVgC8",
        "colab_type": "code",
        "colab": {}
      },
      "source": [
        "# Custom image folder for unlabeled target folder.\n",
        "\n",
        "IMG_EXTENSIONS = ('.jpg', '.jpeg', '.png', '.ppm', '.bmp', '.pgm', '.tif', '.tiff', '.webp')\n",
        "\n",
        "def has_file_allowed_extension(filename, extensions):\n",
        "    return filename.lower().endswith(extensions)\n",
        "\n",
        "def make_dataset(dir, extensions=None, is_valid_file=None):\n",
        "  \"\"\"\n",
        "  Adaption of https://pytorch.org/docs/stable/_modules/torchvision/datasets/folder.html#ImageFolder\n",
        "  \"\"\"\n",
        "  images = []\n",
        "  dir = os.path.expanduser(dir)\n",
        "  if not ((extensions is None) ^ (is_valid_file is None)):\n",
        "    raise ValueError(\"Both extensions and is_valid_file cannot be None or not None at the same time\")\n",
        "  if extensions is not None:\n",
        "    def is_valid_file(x):\n",
        "      return has_file_allowed_extension(x, extensions)\n",
        "  for root, _, fnames in sorted(os.walk(dir)):\n",
        "    for fname in sorted(fnames):\n",
        "      path = os.path.join(root, fname)\n",
        "      if is_valid_file(path):\n",
        "        images.append(path)\n",
        "\n",
        "  return images\n",
        "\n",
        "def pil_loader(path):\n",
        "  # open path as file to avoid ResourceWarning (https://github.com/python-pillow/Pillow/issues/835)\n",
        "  with open(path, 'rb') as f:\n",
        "    img = Image.open(f)\n",
        "    img = img.convert('RGB')\n",
        "    return img\n",
        "\n",
        "def accimage_loader(path):\n",
        "  import accimage\n",
        "  try:\n",
        "    return accimage.Image(path)\n",
        "  except IOError:\n",
        "    # Potentially a decoding problem, fall back to PIL.Image\n",
        "    return pil_loader(path)\n",
        "\n",
        "def default_loader(path):\n",
        "  from torchvision import get_image_backend\n",
        "  if get_image_backend() == 'accimage':\n",
        "    return accimage_loader(path)\n",
        "  else:\n",
        "    return pil_loader(path)\n",
        "\n",
        "\n",
        "class TargetImageFolder(Dataset):\n",
        "\n",
        "  def __init__(self, root, loader, extensions=None, transform=None):\n",
        "    self.extensions = extensions\n",
        "    self.loader = loader\n",
        "    self.samples = make_dataset(root, extensions=IMG_EXTENSIONS)\n",
        "    self.transform = transform\n",
        "\n",
        "  def __len__(self):\n",
        "    return len(self.samples)\n",
        "  \n",
        "  def __getitem__(self, index):\n",
        "    path = self.samples[index]\n",
        "    sample = self.loader(path)\n",
        "    if self.transform is not None:\n",
        "      sample = self.transform(sample)\n",
        "    return sample, _"
      ],
      "execution_count": 0,
      "outputs": []
    },
    {
      "cell_type": "code",
      "metadata": {
        "id": "pFKkFeLONtOW",
        "colab_type": "code",
        "colab": {}
      },
      "source": [
        "SOURCE_NORMALIZATION = {'mean': [0.485, 0.456, 0.406], 'std': [0.229, 0.224, 0.225]}\n",
        "TARGET_NORMALIZATION = {'mean': [0.485, 0.456, 0.406], 'std': [0.229, 0.224, 0.225]}\n",
        "\n",
        "source_transform = transforms.Compose([\n",
        "                                       transforms.RandomResizedCrop(227),\n",
        "                                       transforms.RandomHorizontalFlip(),\n",
        "                                       transforms.ToTensor(),\n",
        "                                       transforms.Normalize(mean=SOURCE_NORMALIZATION['mean'], std=SOURCE_NORMALIZATION['std']),\n",
        "])\n",
        "\n",
        "target_transform = transforms.Compose([\n",
        "                                       transforms.Resize((227, 227)),\n",
        "                                       transforms.ToTensor(),\n",
        "                                       transforms.Normalize(mean=SOURCE_NORMALIZATION['mean'], std=SOURCE_NORMALIZATION['std']),\n",
        "])\n",
        "\n",
        "source_set = ImageFolder(SOURCE_FOLDER, transform=source_transform)\n",
        "\n",
        "target_set = TargetImageFolder(TARGET_FOLDER, default_loader, transform=target_transform, extensions=IMG_EXTENSIONS)\n"
      ],
      "execution_count": 0,
      "outputs": []
    },
    {
      "cell_type": "code",
      "metadata": {
        "id": "t7xPIA_jbWVD",
        "colab_type": "code",
        "colab": {
          "base_uri": "https://localhost:8080/",
          "height": 391
        },
        "outputId": "0ff17864-9211-41b5-986a-79987eabc5c1"
      },
      "source": [
        "def unnormalize(x, mean, std):\n",
        "  x = x * np.array(std).reshape(x.shape[0], 1, 1) + np.array(mean).reshape(x.shape[0], 1, 1)\n",
        "  return x\n",
        "\n",
        "def showimg(tensor, normalization=None):\n",
        "    # tensor = tensor / 2 + 0.5     # unnormalize, because normalization is (img - 0.5)/0.5 in transforms.Normalize\n",
        "    npimg = tensor.numpy()\n",
        "    if normalization:\n",
        "      npimg = unnormalize(npimg, normalization['mean'], normalization['std'])\n",
        "    plt.imshow(np.transpose(npimg, (1, 2, 0)))\n",
        "    plt.show()\n",
        "\n",
        "# Size of both sets\n",
        "print(f'--------\\nSource Set: {len(source_set)} elements. Target Set: {len(target_set)} elements.\\n--------')\n",
        "\n",
        "# Samples dataloaders\n",
        "source_loader = DataLoader(source_set, batch_size=14, shuffle=True, num_workers=1)\n",
        "\n",
        "target_loader = DataLoader(target_set, batch_size=14, shuffle=True, num_workers=1)\n",
        "\n",
        "\n",
        "# Source Sample\n",
        "dataiter = source_loader.__iter__()\n",
        "input, labels = dataiter.next()\n",
        "print(' ---- Source Samples')\n",
        "print(' '.join('%5s' % source_set.classes[labels[j]] for j in range(14)))\n",
        "showimg(torchvision.utils.make_grid(input), SOURCE_NORMALIZATION)\n",
        "\n",
        "# Target Sample\n",
        "dataiter = target_loader.__iter__()\n",
        "input, _ = dataiter.next()\n",
        "print(' ---- Target Samples')\n",
        "showimg(torchvision.utils.make_grid(input), TARGET_NORMALIZATION)"
      ],
      "execution_count": 9,
      "outputs": [
        {
          "output_type": "stream",
          "text": [
            "--------\n",
            "Source Set: 1492 elements. Target Set: 412 elements.\n",
            "--------\n"
          ],
          "name": "stdout"
        },
        {
          "output_type": "stream",
          "text": [
            "Clipping input data to the valid range for imshow with RGB data ([0..1] for floats or [0..255] for integers).\n"
          ],
          "name": "stderr"
        },
        {
          "output_type": "stream",
          "text": [
            " ---- Source Samples\n",
            "desk_chair keyboard back_pack monitor stapler speaker monitor back_pack desk_chair speaker keyboard   pen paper_notebook paper_notebook\n"
          ],
          "name": "stdout"
        },
        {
          "output_type": "display_data",
          "data": {
            "image/png": "[encoded data removed]",
            "text/plain": [
              "<Figure size 432x288 with 1 Axes>"
            ]
          },
          "metadata": {
            "tags": []
          }
        },
        {
          "output_type": "stream",
          "text": [
            "Clipping input data to the valid range for imshow with RGB data ([0..1] for floats or [0..255] for integers).\n"
          ],
          "name": "stderr"
        },
        {
          "output_type": "stream",
          "text": [
            " ---- Target Samples\n"
          ],
          "name": "stdout"
        },
        {
          "output_type": "display_data",
          "data": {
            "image/png": "[encoded data removed]",
            "text/plain": [
              "<Figure size 432x288 with 1 Axes>"
            ]
          },
          "metadata": {
            "tags": []
          }
        }
      ]
    },
    {
      "cell_type": "markdown",
      "metadata": {
        "id": "oCjqTJp3mkiz",
        "colab_type": "text"
      },
      "source": [
        "# MODEL STRUCTURE\n",
        "\n",
        "\n",
        "\n",
        "*   https://github.com/pytorch/vision/blob/master/torchvision/models/alexnet.py\n",
        "*   https://github.com/wogong/pytorch-dann\n",
        "\n"
      ]
    },
    {
      "cell_type": "code",
      "metadata": {
        "id": "WUuf32vim2YS",
        "colab_type": "code",
        "colab": {
          "base_uri": "https://localhost:8080/",
          "height": 105
        },
        "outputId": "e9ff9d53-c30f-48a3-fc4a-d2df0b58ae30"
      },
      "source": [
        "class Reverse(torch.autograd.Function):\n",
        "\n",
        "  @staticmethod\n",
        "  def forward(ctx, x, lbd):\n",
        "    ctx.lbd = lbd\n",
        "    return x.view_as(x)\n",
        "  \n",
        "  @staticmethod\n",
        "  def backward(ctx, grad_output):\n",
        "    output = grad_output.neg() * ctx.lbd\n",
        "    return output, None\n",
        "\n",
        "\n",
        "class DANN(nn.Module):\n",
        "\n",
        "  def __init__(self, number_classes=10):\n",
        "    super(DANN, self).__init__()\n",
        "\n",
        "    model_alexnet = torchvision.models.alexnet(pretrained=True)\n",
        "\n",
        "    self.features = model_alexnet.features\n",
        "\n",
        "    self.fc = model_alexnet.classifier[:-1] # Remove last layer\n",
        "    bottleneck_features = model_alexnet.classifier[-1].in_features\n",
        "\n",
        "    self.bottleneck = nn.Sequential(\n",
        "      nn.Linear(bottleneck_features, int(bottleneck_features / 2)),\n",
        "      nn.ReLU(inplace=True),\n",
        "    )\n",
        "\n",
        "    self.class_classifier = nn.Sequential(\n",
        "      nn.Linear(int(bottleneck_features / 2), number_classes)\n",
        "    )\n",
        "\n",
        "    self.domain_classifier = nn.Sequential(\n",
        "      nn.Linear(int(bottleneck_features / 2), 1024), # 1024 is recommended in paper.\n",
        "      nn.ReLU(inplace=True),\n",
        "      nn.Dropout(),\n",
        "      nn.Linear(1024, 1024),\n",
        "      nn.ReLU(inplace=True),\n",
        "      nn.Dropout(),\n",
        "      nn.Linear(1024, 2),\n",
        "    )\n",
        "\n",
        "  def forward(self, input, lbd=0.1):\n",
        "    features = self.features(input)\n",
        "    features = features.view(-1, 256*6*6)\n",
        "    fc = self.fc(features)\n",
        "    bottleneck = self.bottleneck(fc)\n",
        "    reverse_bottleneck = Reverse.apply(bottleneck, lbd)\n",
        "\n",
        "    predicted_classes = self.class_classifier(bottleneck)\n",
        "    predicted_domains = self.domain_classifier(reverse_bottleneck)\n",
        "\n",
        "    return predicted_classes, predicted_domains\n",
        "\n",
        "dann_test = DANN().to(device)\n",
        "INPUT_SIZE = (3, 227, 227)\n",
        "input_random = torch.rand((1, INPUT_SIZE[0], INPUT_SIZE[1], INPUT_SIZE[2])).to(device)\n",
        "print(dann_test(input_random))"
      ],
      "execution_count": 10,
      "outputs": [
        {
          "output_type": "stream",
          "text": [
            "Downloading: \"https://download.pytorch.org/models/alexnet-owt-4df8aa71.pth\" to /root/.cache/torch/checkpoints/alexnet-owt-4df8aa71.pth\n",
            "100%|██████████| 233M/233M [00:02<00:00, 111MB/s]\n"
          ],
          "name": "stderr"
        },
        {
          "output_type": "stream",
          "text": [
            "(tensor([[ 0.1552,  0.0696, -0.1989,  0.1504,  0.0023, -0.0220,  0.1826,  0.2407,\n",
            "          0.0449,  0.0472]], device='cuda:0', grad_fn=<AddmmBackward>), tensor([[-0.1060,  0.0513]], device='cuda:0', grad_fn=<AddmmBackward>))\n"
          ],
          "name": "stdout"
        }
      ]
    },
    {
      "cell_type": "markdown",
      "metadata": {
        "id": "hcZ0mPWquC_b",
        "colab_type": "text"
      },
      "source": [
        "# TRAIN"
      ]
    },
    {
      "cell_type": "code",
      "metadata": {
        "id": "KFZuMQ3kYELO",
        "colab_type": "code",
        "colab": {}
      },
      "source": [
        "# Utilities for training\n",
        "def lr_annealing(original_learning_rate, p):\n",
        "  ALPHA = 10\n",
        "  BETA = 0.75\n",
        "  return original_learning_rate / ((1 + (ALPHA * p))**BETA)\n",
        "\n",
        "def compute_lambda(p):\n",
        "  GAMMA = 10\n",
        "  return (2 / (1 + math.exp(-GAMMA * p))) - 1\n",
        "\n",
        "class Recording(object):\n",
        "  loss = []\n",
        "  accuracy = []\n",
        "  accuracy_domain = []\n",
        "\n",
        "class Recordings(object):\n",
        "  source = Recording()\n",
        "  target = Recording()\n",
        "\n",
        "  def log(self, epoch, epochs):\n",
        "    print(f'\\n----- Recording of Evaluation for epoch {epoch + 1}/{epochs}')\n",
        "    print(f'Source, loss: {self.source.loss[-1]}, label accuracy: {self.source.accuracy[-1]}, domain accuracy: {self.source.accuracy_domain[-1]}')\n",
        "    print(f'Target, loss: {self.target.loss[-1]}, label accuracy: {self.target.accuracy[-1]}, domain accuracy: {self.target.accuracy_domain[-1]}')\n",
        "  \n"
      ],
      "execution_count": 0,
      "outputs": []
    },
    {
      "cell_type": "code",
      "metadata": {
        "id": "FZMhUNS6ZXoI",
        "colab_type": "code",
        "colab": {}
      },
      "source": [
        "def pre_train(model, source_loader, device):\n",
        "  # Is it even necessary? Not sure if we use alexnet pretrained.\n",
        "  pass"
      ],
      "execution_count": 0,
      "outputs": []
    },
    {
      "cell_type": "code",
      "metadata": {
        "id": "UeUDRZ7VfZEs",
        "colab_type": "code",
        "colab": {}
      },
      "source": [
        "def evaluate(model, loader, device, flag_source):\n",
        "  # Eval flag\n",
        "  model.eval()\n",
        "\n",
        "  # Initialize metrics\n",
        "  loss = 0.\n",
        "  accuracy = 0.\n",
        "  accuracy_domain = 0.\n",
        "\n",
        "  # Criterion\n",
        "  criterion = nn.CrossEntropyLoss() # From paper\n",
        "\n",
        "  with torch.no_grad():\n",
        "    for (inputs, labels) in loader:\n",
        "\n",
        "      # To device\n",
        "      inputs = inputs.to(device)\n",
        "      labels = labels.to(device)\n",
        "\n",
        "      # Prepare domain labels\n",
        "      if flag_source == 'True':\n",
        "        domains = torch.zeros(len(labels)).float().to(device)\n",
        "      else:\n",
        "        domains = torch.ones(len(labels)).float().to(device)\n",
        "      \n",
        "      label_outputs, domain_outputs = model(inputs, lbd=0)\n",
        "\n",
        "      # Update loss\n",
        "      loss += criterion(label_outputs, labels).data.item()\n",
        "\n",
        "      # Update Accuracies\n",
        "      predicted_labels = label_outputs.data.max(1)[1]\n",
        "      accuracy += predicted_labels.eq(labels.data).sum().item()\n",
        "      predicted_domains = domain_outputs.data.max(1)[1]\n",
        "      accuracy_domain += predicted_domains.eq(domains.data).sum().item()\n",
        "\n",
        "  # Average metrics\n",
        "  loss /= len(loader)\n",
        "  accuracy /= len(loader.dataset)\n",
        "  accuracy_domain /= len(loader.dataset)\n",
        "\n",
        "  return loss, accuracy, accuracy_domain\n",
        "\n"
      ],
      "execution_count": 0,
      "outputs": []
    },
    {
      "cell_type": "code",
      "metadata": {
        "id": "y8_M2bKbpfJ3",
        "colab_type": "code",
        "colab": {}
      },
      "source": [
        "def train(model, source_loader, target_loader, params, device):\n",
        "  print('==== Start Training ====')\n",
        "\n",
        "  for epoch in range(params.epochs):\n",
        "    # Train flag\n",
        "    model.train()\n",
        "\n",
        "    # Mixed loader\n",
        "    print(source_loader, target_loader)\n",
        "    loader = zip(source_loader, target_loader)\n",
        "    len_loader = len(list(loader))\n",
        "    print(len_loader)\n",
        "\n",
        "    # Recordings\n",
        "    recordings = Recordings()\n",
        "    for iteration, ((source_inputs, source_labels), (target_inputs, _)) in enumerate(loader):\n",
        "      print(iteration)\n",
        "\n",
        "      # Training progress p\n",
        "      p = (epoch * len_loader + iteration) / (epochs * len_loader) # progress, linearly from 0 to 1\n",
        "      lbd = compute_lambda(p)\n",
        "      adjusted_lr = lr_annealing(params.learning_rate, p)\n",
        "      for param_group in optimizer.param_groups:\n",
        "        param_group['lr'] = adjusted_lr\n",
        "\n",
        "      # To device\n",
        "      source_inputs = source_inputs.to(device)\n",
        "      source_labels = source_labels.to(device)\n",
        "      target_inputs = target_inputs.to(device)\n",
        "\n",
        "      # Prepare domain labels\n",
        "      source_domains = torch.zeros(params.batch_size_source).float().to(device)\n",
        "      target_domains = torch.ones(params.batch_size_target).float().to(device)\n",
        "\n",
        "      # Reset grad\n",
        "      optimizer.zero_grad()\n",
        "\n",
        "      # Source domain\n",
        "      source_label_outputs, source_domain_outputs = model(source_inputs, lbd=lbd)\n",
        "      source_labels_loss = criterion(source_labels, source_label_outputs)\n",
        "      source_domains_loss = criterion(source_domains, source_domain_outputs)\n",
        "\n",
        "      # Target domain\n",
        "      _, target_domain_outputs = model(target_inputs, lbd=lbd)\n",
        "      target_domains_loss = criterion(target_domains, target_domain_outputs)\n",
        "\n",
        "      # Combine losses\n",
        "      loss = source_labels_loss + source_domains_loss + target_domains_loss\n",
        "\n",
        "      # Optimize\n",
        "      loss.backward()\n",
        "      optimizer.step()\n",
        "\n",
        "      # =======\n",
        "      # Log Progress\n",
        "      if ((iteration + 1) % params.log_progress_every == 0):\n",
        "        print(f'\\n---- Epoch {epoch + 1}/{params.epochs}, Iteration {iteration + 1}/{len_loader}')\n",
        "        print(f'Source, label loss: {source_labels_loss.data.item()}, domain loss: {source_domains_loss.data.item()} \\|\\| Target, domain loss: {target_domains_loss.data.item()}')\n",
        "        print(f'Overall loss : {loss.data.item()}')\n",
        "\n",
        "    # Evaluate\n",
        "    if ((epoch + 1) % params.evaluate_model_every == 0):\n",
        "      print('---- Start Evaluation ----')\n",
        "      source_loss, source_accuracy, source_accuracy_domain = evaluate(model, source_loader, device, True)\n",
        "      recordings.source.loss.append(source_loss); recordings.source.accuracy.append(source_accuracy); recordings.source.accuracy_domain.append(source_accuracy_domain)\n",
        "      target_loss, target_accuracy, target_accuracy_domain = evaluate(model, target_loader, device, False)\n",
        "      recordings.target.loss.append(target_loss); recordings.target.accuracy.append(target_accuracy); recordings.target.accuracy_domain.append(target_accuracy_domain)\n",
        "      recordings.log(epoch, params.epochs)\n",
        "\n",
        "    # Save temporary model\n",
        "    if ((epoch + 1) % params.save_model_every == 0):\n",
        "      torch.save(model.state_dict(), params.model_filename)\n",
        "\n",
        "  # Save final model\n",
        "  torch.save(model.state_dict(), params.model_filename)\n",
        "\n",
        "  # Save recordings\n",
        "  serialize_object(recordings, params.recordings_filename)\n",
        "  \n",
        "  return model, recordings"
      ],
      "execution_count": 0,
      "outputs": []
    },
    {
      "cell_type": "markdown",
      "metadata": {
        "id": "b3F4xrz6imIA",
        "colab_type": "text"
      },
      "source": [
        "# PARAMETERS"
      ]
    },
    {
      "cell_type": "code",
      "metadata": {
        "id": "gF-spPz0Uv1G",
        "colab_type": "code",
        "colab": {}
      },
      "source": [
        "class Params(object):\n",
        "\n",
        "  source_batch_size = 128 // 2 # From paper\n",
        "  target_batch_size = 128 // 2\n",
        "  epochs = 30\n",
        "  learning_rate = 0.01 # From paper\n",
        "  momentum = 0.9\n",
        "  weight_decay = 0\n",
        "\n",
        "  log_progress_every = 2 # In iterations\n",
        "  evaluate_model_every = 1 # In epochs\n",
        "  save_model_every = 5 # In epochs\n",
        "\n",
        "  model_filename = '{}/saves_task2/dann.pth'.format(ROOT_DIRECTORY)\n",
        "  recordings_filename = '{}/saves_task2/recordings.pickle'.format(ROOT_DIRECTORY)"
      ],
      "execution_count": 0,
      "outputs": []
    },
    {
      "cell_type": "code",
      "metadata": {
        "id": "MZePvTwrqnPe",
        "colab_type": "code",
        "colab": {}
      },
      "source": [
        "# Model, optimizer and criterion\n",
        "params = Params()\n",
        "model = DANN(number_classes=len(source_set.classes)).to(device)\n",
        "optimizer = optim.SGD(model.parameters(), lr=params.learning_rate, momentum=params.momentum, weight_decay=params.weight_decay)\n",
        "criterion = nn.CrossEntropyLoss()\n",
        "\n",
        "# Loaders\n",
        "source_loader = DataLoader(source_set, batch_size=params.source_batch_size, shuffle=True, num_workers=cpu_cores)\n",
        "target_loader = DataLoader(target_set, batch_size=params.target_batch_size, shuffle=True, num_workers=cpu_cores)\n",
        "\n",
        "print(list(zip(source_loader, target_loader)))"
      ],
      "execution_count": 0,
      "outputs": []
    },
    {
      "cell_type": "markdown",
      "metadata": {
        "id": "uX_N7ue_sUHh",
        "colab_type": "text"
      },
      "source": [
        "# RUN"
      ]
    },
    {
      "cell_type": "code",
      "metadata": {
        "id": "NS5SMtqhsVpW",
        "colab_type": "code",
        "colab": {
          "base_uri": "https://localhost:8080/",
          "height": 358
        },
        "outputId": "5c65b2d0-10b8-455e-ed49-dc1c3099ed7e"
      },
      "source": [
        "model, recordings = train(model, source_loader, target_loader, params, device)"
      ],
      "execution_count": 17,
      "outputs": [
        {
          "output_type": "stream",
          "text": [
            "==== Start Training ====\n",
            "<torch.utils.data.dataloader.DataLoader object at 0x7f7f382b5630> <torch.utils.data.dataloader.DataLoader object at 0x7f7f382b5ba8>\n",
            "7\n"
          ],
          "name": "stdout"
        },
        {
          "output_type": "error",
          "ename": "AttributeError",
          "evalue": "ignored",
          "traceback": [
            "\u001b[0;31m---------------------------------------------------------------------------\u001b[0m",
            "\u001b[0;31mAttributeError\u001b[0m                            Traceback (most recent call last)",
            "\u001b[0;32m<ipython-input-17-e86443d03c08>\u001b[0m in \u001b[0;36m<module>\u001b[0;34m()\u001b[0m\n\u001b[0;32m----> 1\u001b[0;31m \u001b[0mmodel\u001b[0m\u001b[0;34m,\u001b[0m \u001b[0mrecordings\u001b[0m \u001b[0;34m=\u001b[0m \u001b[0mtrain\u001b[0m\u001b[0;34m(\u001b[0m\u001b[0mmodel\u001b[0m\u001b[0;34m,\u001b[0m \u001b[0msource_loader\u001b[0m\u001b[0;34m,\u001b[0m \u001b[0mtarget_loader\u001b[0m\u001b[0;34m,\u001b[0m \u001b[0mparams\u001b[0m\u001b[0;34m,\u001b[0m \u001b[0mdevice\u001b[0m\u001b[0;34m)\u001b[0m\u001b[0;34m\u001b[0m\u001b[0;34m\u001b[0m\u001b[0m\n\u001b[0m",
            "\u001b[0;32m<ipython-input-14-5d88d522e851>\u001b[0m in \u001b[0;36mtrain\u001b[0;34m(model, source_loader, target_loader, params, device)\u001b[0m\n\u001b[1;32m     63\u001b[0m       \u001b[0msource_loss\u001b[0m\u001b[0;34m,\u001b[0m \u001b[0msource_accuracy\u001b[0m\u001b[0;34m,\u001b[0m \u001b[0msource_accuracy_domain\u001b[0m \u001b[0;34m=\u001b[0m \u001b[0mevaluate\u001b[0m\u001b[0;34m(\u001b[0m\u001b[0mmodel\u001b[0m\u001b[0;34m,\u001b[0m \u001b[0msource_loader\u001b[0m\u001b[0;34m,\u001b[0m \u001b[0mdevice\u001b[0m\u001b[0;34m,\u001b[0m \u001b[0;32mTrue\u001b[0m\u001b[0;34m)\u001b[0m\u001b[0;34m\u001b[0m\u001b[0;34m\u001b[0m\u001b[0m\n\u001b[1;32m     64\u001b[0m       \u001b[0mrecordings\u001b[0m\u001b[0;34m.\u001b[0m\u001b[0msource\u001b[0m\u001b[0;34m.\u001b[0m\u001b[0mloss\u001b[0m\u001b[0;34m.\u001b[0m\u001b[0mappend\u001b[0m\u001b[0;34m(\u001b[0m\u001b[0msource_loss\u001b[0m\u001b[0;34m)\u001b[0m\u001b[0;34m;\u001b[0m \u001b[0mrecordings\u001b[0m\u001b[0;34m.\u001b[0m\u001b[0msource\u001b[0m\u001b[0;34m.\u001b[0m\u001b[0maccuracy\u001b[0m\u001b[0;34m.\u001b[0m\u001b[0mappend\u001b[0m\u001b[0;34m(\u001b[0m\u001b[0msource_accuracy\u001b[0m\u001b[0;34m)\u001b[0m\u001b[0;34m;\u001b[0m \u001b[0mrecordings\u001b[0m\u001b[0;34m.\u001b[0m\u001b[0msource\u001b[0m\u001b[0;34m.\u001b[0m\u001b[0maccuracy_domain\u001b[0m\u001b[0;34m.\u001b[0m\u001b[0mappend\u001b[0m\u001b[0;34m(\u001b[0m\u001b[0msource_accuracy_domain\u001b[0m\u001b[0;34m)\u001b[0m\u001b[0;34m\u001b[0m\u001b[0;34m\u001b[0m\u001b[0m\n\u001b[0;32m---> 65\u001b[0;31m       \u001b[0mtarget_loss\u001b[0m\u001b[0;34m,\u001b[0m \u001b[0mtarget_accuracy\u001b[0m\u001b[0;34m,\u001b[0m \u001b[0mtarget_accuracy_domain\u001b[0m \u001b[0;34m=\u001b[0m \u001b[0mevaluate\u001b[0m\u001b[0;34m(\u001b[0m\u001b[0mmodel\u001b[0m\u001b[0;34m,\u001b[0m \u001b[0mtarget_loader\u001b[0m\u001b[0;34m,\u001b[0m \u001b[0mdevice\u001b[0m\u001b[0;34m,\u001b[0m \u001b[0;32mFalse\u001b[0m\u001b[0;34m)\u001b[0m\u001b[0;34m\u001b[0m\u001b[0;34m\u001b[0m\u001b[0m\n\u001b[0m\u001b[1;32m     66\u001b[0m       \u001b[0mrecordings\u001b[0m\u001b[0;34m.\u001b[0m\u001b[0mtarget\u001b[0m\u001b[0;34m.\u001b[0m\u001b[0mloss\u001b[0m\u001b[0;34m.\u001b[0m\u001b[0mappend\u001b[0m\u001b[0;34m(\u001b[0m\u001b[0mtarget_loss\u001b[0m\u001b[0;34m)\u001b[0m\u001b[0;34m;\u001b[0m \u001b[0mrecordings\u001b[0m\u001b[0;34m.\u001b[0m\u001b[0mtarget\u001b[0m\u001b[0;34m.\u001b[0m\u001b[0maccuracy\u001b[0m\u001b[0;34m.\u001b[0m\u001b[0mappend\u001b[0m\u001b[0;34m(\u001b[0m\u001b[0mtarget_accuracy\u001b[0m\u001b[0;34m)\u001b[0m\u001b[0;34m;\u001b[0m \u001b[0mrecordings\u001b[0m\u001b[0;34m.\u001b[0m\u001b[0mtarget\u001b[0m\u001b[0;34m.\u001b[0m\u001b[0maccuracy_domain\u001b[0m\u001b[0;34m.\u001b[0m\u001b[0mappend\u001b[0m\u001b[0;34m(\u001b[0m\u001b[0mtarget_accuracy_domain\u001b[0m\u001b[0;34m)\u001b[0m\u001b[0;34m\u001b[0m\u001b[0;34m\u001b[0m\u001b[0m\n\u001b[1;32m     67\u001b[0m       \u001b[0mrecordings\u001b[0m\u001b[0;34m.\u001b[0m\u001b[0mlog\u001b[0m\u001b[0;34m(\u001b[0m\u001b[0mepoch\u001b[0m\u001b[0;34m,\u001b[0m \u001b[0mparams\u001b[0m\u001b[0;34m.\u001b[0m\u001b[0mepochs\u001b[0m\u001b[0;34m)\u001b[0m\u001b[0;34m\u001b[0m\u001b[0;34m\u001b[0m\u001b[0m\n",
            "\u001b[0;32m<ipython-input-13-a4f958132dc6>\u001b[0m in \u001b[0;36mevaluate\u001b[0;34m(model, loader, device, flag_source)\u001b[0m\n\u001b[1;32m     16\u001b[0m       \u001b[0;31m# To device\u001b[0m\u001b[0;34m\u001b[0m\u001b[0;34m\u001b[0m\u001b[0;34m\u001b[0m\u001b[0m\n\u001b[1;32m     17\u001b[0m       \u001b[0minputs\u001b[0m \u001b[0;34m=\u001b[0m \u001b[0minputs\u001b[0m\u001b[0;34m.\u001b[0m\u001b[0mto\u001b[0m\u001b[0;34m(\u001b[0m\u001b[0mdevice\u001b[0m\u001b[0;34m)\u001b[0m\u001b[0;34m\u001b[0m\u001b[0;34m\u001b[0m\u001b[0m\n\u001b[0;32m---> 18\u001b[0;31m       \u001b[0mlabels\u001b[0m \u001b[0;34m=\u001b[0m \u001b[0mlabels\u001b[0m\u001b[0;34m.\u001b[0m\u001b[0mto\u001b[0m\u001b[0;34m(\u001b[0m\u001b[0mdevice\u001b[0m\u001b[0;34m)\u001b[0m\u001b[0;34m\u001b[0m\u001b[0;34m\u001b[0m\u001b[0m\n\u001b[0m\u001b[1;32m     19\u001b[0m \u001b[0;34m\u001b[0m\u001b[0m\n\u001b[1;32m     20\u001b[0m       \u001b[0;31m# Prepare domain labels\u001b[0m\u001b[0;34m\u001b[0m\u001b[0;34m\u001b[0m\u001b[0;34m\u001b[0m\u001b[0m\n",
            "\u001b[0;31mAttributeError\u001b[0m: 'list' object has no attribute 'to'"
          ]
        }
      ]
    },
    {
      "cell_type": "markdown",
      "metadata": {
        "id": "1BBTYOUpeCyJ",
        "colab_type": "text"
      },
      "source": [
        "Reflexions:\n",
        "\n",
        "Should we reset the source loader at every epoch to explore a larger amount of samples from source?"
      ]
    },
    {
      "cell_type": "code",
      "metadata": {
        "id": "npMJP50peMuJ",
        "colab_type": "code",
        "colab": {}
      },
      "source": [
        ""
      ],
      "execution_count": 0,
      "outputs": []
    }
  ]
}